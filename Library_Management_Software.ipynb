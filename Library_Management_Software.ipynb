{
  "nbformat": 4,
  "nbformat_minor": 0,
  "metadata": {
    "colab": {
      "provenance": []
    },
    "kernelspec": {
      "name": "python3",
      "display_name": "Python 3"
    },
    "language_info": {
      "name": "python"
    }
  },
  "cells": [
    {
      "cell_type": "code",
      "source": [
        "import pandas as pd\n",
        "import os\n",
        "from datetime import datetime, timedelta"
      ],
      "metadata": {
        "id": "QoAmxVVUNDkB"
      },
      "execution_count": 3,
      "outputs": []
    },
    {
      "cell_type": "code",
      "execution_count": 4,
      "metadata": {
        "id": "jV7J3PTwM8Qx"
      },
      "outputs": [],
      "source": [
        "BOOKS_FILE = 'books.csv'\n",
        "USERS_FILE = 'users.csv'\n",
        "BORROW_FILE = 'borrowed.csv'"
      ]
    },
    {
      "cell_type": "code",
      "source": [
        "def load_data(file):\n",
        "    return pd.read_csv(file) if os.path.exists(file) else pd.DataFrame()\n",
        "\n",
        "def save_data(df, file):\n",
        "    df.to_csv(file, index=False)\n",
        "\n",
        "def signup():\n",
        "    df = load_data(USERS_FILE)\n",
        "    if df.empty or 'username' not in df.columns:\n",
        "        df = pd.DataFrame(columns=[\"user_id\", \"username\"])\n",
        "    username = input(\"Enter new username: \")\n",
        "    if username in df['username'].values:\n",
        "        print(\"Username already exists.\")\n",
        "        return\n",
        "    user_id = f\"U{len(df) + 1}\"\n",
        "    new_user = pd.DataFrame([[user_id, username]], columns=[\"user_id\", \"username\"])\n",
        "    df = pd.concat([df, new_user], ignore_index=True)\n",
        "    save_data(df, USERS_FILE)\n",
        "    print(\"Signup successful. Please login.\")"
      ],
      "metadata": {
        "id": "P3rxNco4NJDA"
      },
      "execution_count": 5,
      "outputs": []
    },
    {
      "cell_type": "code",
      "source": [
        "def login():\n",
        "    df = load_data(USERS_FILE)\n",
        "    if df.empty or 'username' not in df.columns:\n",
        "        print(\"No users registered yet. Please sign up.\")\n",
        "        return\n",
        "    username = input(\"Enter your username: \")\n",
        "    user = df[df['username'] == username]\n",
        "    if not user.empty:\n",
        "        print(f\"Welcome {username}!\")\n",
        "        main_menu(user.iloc[0]['user_id'])\n",
        "    else:\n",
        "        print(\"Invalid username. Try again.\")\n",
        "\n"
      ],
      "metadata": {
        "id": "L5dhScIjNIOQ"
      },
      "execution_count": 6,
      "outputs": []
    },
    {
      "cell_type": "code",
      "source": [
        "def add_book():\n",
        "    df = load_data(BOOKS_FILE)\n",
        "    if df.empty or 'title' not in df.columns:\n",
        "        df = pd.DataFrame(columns=[\"book_id\", \"title\", \"author\", \"available\"])\n",
        "    book_id = f\"B{len(df) + 1}\"\n",
        "    title = input(\"Enter book title: \")\n",
        "    author = input(\"Enter author: \")\n",
        "    new_book = pd.DataFrame([[book_id, title, author, 'yes']], columns=[\"book_id\", \"title\", \"author\", \"available\"])\n",
        "    df = pd.concat([df, new_book], ignore_index=True)\n",
        "    save_data(df, BOOKS_FILE)\n",
        "    print(\"Book added successfully.\")\n",
        "\n",
        "\n"
      ],
      "metadata": {
        "id": "X6S2QyHMNPcP"
      },
      "execution_count": 7,
      "outputs": []
    },
    {
      "cell_type": "code",
      "source": [
        "def borrow_book(user_id):\n",
        "    books = load_data(BOOKS_FILE)\n",
        "    if books.empty or 'available' not in books.columns:\n",
        "        print(\"No books available.\")\n",
        "        return\n",
        "\n",
        "    borrows = load_data(BORROW_FILE)\n",
        "    if borrows.empty or 'book_id' not in borrows.columns:\n",
        "        borrows = pd.DataFrame(columns=[\"user_id\", \"book_id\", \"borrow_date\", \"due_date\"])\n",
        "\n",
        "    book_id = input(\"Enter Book ID to borrow: \")\n",
        "    if not books[(books['book_id'] == book_id) & (books['available'] == 'yes')].empty:\n",
        "        books.loc[books['book_id'] == book_id, 'available'] = 'no'\n",
        "        borrow_date = datetime.now()\n",
        "        due_date = borrow_date + timedelta(days=7)\n",
        "        new_borrow = pd.DataFrame([[user_id, book_id, borrow_date.strftime('%Y-%m-%d'), due_date.strftime('%Y-%m-%d')]],\n",
        "                                  columns=[\"user_id\", \"book_id\", \"borrow_date\", \"due_date\"])\n",
        "        borrows = pd.concat([borrows, new_borrow], ignore_index=True)\n",
        "        save_data(books, BOOKS_FILE)\n",
        "        save_data(borrows, BORROW_FILE)\n",
        "        print(f\"Book borrowed. Return by {due_date.strftime('%Y-%m-%d')}\")\n",
        "    else:\n",
        "        print(\"Book not available or doesn't exist.\")\n"
      ],
      "metadata": {
        "id": "zcqR6VNHOKpH"
      },
      "execution_count": 8,
      "outputs": []
    },
    {
      "cell_type": "code",
      "source": [
        "def return_book(user_id):\n",
        "    books = load_data(BOOKS_FILE)\n",
        "    borrows = load_data(BORROW_FILE)\n",
        "\n",
        "    if books.empty or 'available' not in books.columns or borrows.empty or 'book_id' not in borrows.columns:\n",
        "        print(\"No data found.\")\n",
        "        return\n",
        "\n",
        "    book_id = input(\"Enter Book ID to return: \")\n",
        "    if not borrows[(borrows['user_id'] == user_id) & (borrows['book_id'] == book_id)].empty:\n",
        "        books.loc[books['book_id'] == book_id, 'available'] = 'yes'\n",
        "        borrows = borrows[~((borrows['user_id'] == user_id) & (borrows['book_id'] == book_id))]\n",
        "        save_data(books, BOOKS_FILE)\n",
        "        save_data(borrows, BORROW_FILE)\n",
        "        print(\"Book returned.\")\n",
        "    else:\n",
        "        print(\"No record found for this book.\")\n",
        "\n",
        "\n"
      ],
      "metadata": {
        "id": "AINamaP3NSsY"
      },
      "execution_count": 9,
      "outputs": []
    },
    {
      "cell_type": "code",
      "source": [
        "def view_all_books():\n",
        "    df = load_data(BOOKS_FILE)\n",
        "    print(df.to_string(index=False))\n",
        "\n"
      ],
      "metadata": {
        "id": "LMevDiIqNZZA"
      },
      "execution_count": 10,
      "outputs": []
    },
    {
      "cell_type": "code",
      "source": [
        "def search_book():\n",
        "    df = load_data(BOOKS_FILE)\n",
        "    keyword = input(\"Enter title/author keyword: \").lower()\n",
        "    results = df[df['title'].str.lower().str.contains(keyword) | df['author'].str.lower().str.contains(keyword)]\n",
        "    print(results.to_string(index=False))\n",
        "\n"
      ],
      "metadata": {
        "id": "mYlxkri0NbGg"
      },
      "execution_count": 11,
      "outputs": []
    },
    {
      "cell_type": "code",
      "source": [
        "def view_overdue_books():\n",
        "    borrows = load_data(BORROW_FILE)\n",
        "    books = load_data(BOOKS_FILE)\n",
        "    today = datetime.now().date()\n",
        "    borrows['due_date'] = pd.to_datetime(borrows['due_date']).dt.date\n",
        "    overdue = borrows[borrows['due_date'] < today]\n",
        "    if overdue.empty:\n",
        "        print(\"No overdue books.\")\n",
        "    else:\n",
        "        merged = overdue.merge(books, on='book_id')\n",
        "        print(merged[['book_id', 'title', 'author', 'due_date']].to_string(index=False))\n",
        "\n"
      ],
      "metadata": {
        "id": "gCXxLirUNcpw"
      },
      "execution_count": 12,
      "outputs": []
    },
    {
      "cell_type": "code",
      "source": [
        "def main_menu(user_id):\n",
        "    while True:\n",
        "        print(\"\\n===== MAIN MENU =====\")\n",
        "        print(\"1. Add Book\")\n",
        "        print(\"2. Borrow Book\")\n",
        "        print(\"3. Return Book\")\n",
        "        print(\"4. View All Books\")\n",
        "        print(\"5. Search Book\")\n",
        "        print(\"6. View Overdue Books\")\n",
        "        print(\"7. Logout to Login Page\")\n",
        "        choice = input(\"Choose an option: \")\n",
        "        if choice == '1':\n",
        "            add_book()\n",
        "        elif choice == '2':\n",
        "            borrow_book(user_id)\n",
        "        elif choice == '3':\n",
        "            return_book(user_id)\n",
        "        elif choice == '4':\n",
        "            view_all_books()\n",
        "        elif choice == '5':\n",
        "            search_book()\n",
        "        elif choice == '6':\n",
        "            view_overdue_books()\n",
        "        elif choice == '7':\n",
        "            break\n",
        "        else:\n",
        "            print(\"Invalid choice.\")\n",
        "\n"
      ],
      "metadata": {
        "id": "1sn7zOJZNfTA"
      },
      "execution_count": 13,
      "outputs": []
    },
    {
      "cell_type": "code",
      "source": [
        "def user_menu():\n",
        "    while True:\n",
        "        print(\"\\n-- Welcome to the Library System ---\")\n",
        "        print(\"1. Login\")\n",
        "        print(\"2. Signup\")\n",
        "        print(\"3. Exit\")\n",
        "        choice = input(\"Choose an option: \")\n",
        "        if choice == '1':\n",
        "            login()\n",
        "        elif choice == '2':\n",
        "            signup()\n",
        "        elif choice == '3':\n",
        "            print(\"Goodbye!\")\n",
        "            break\n",
        "        else:\n",
        "            print(\"Invalid input.\")\n",
        "\n"
      ],
      "metadata": {
        "id": "MAkprUi6NhEv"
      },
      "execution_count": 14,
      "outputs": []
    },
    {
      "cell_type": "code",
      "source": [
        "if __name__ == \"__main__\":\n",
        "    user_menu()\n"
      ],
      "metadata": {
        "colab": {
          "base_uri": "https://localhost:8080/"
        },
        "id": "RSrtqrPlNiXA",
        "outputId": "8aba2941-fc00-40b0-f5a8-7271cf9660ea"
      },
      "execution_count": 15,
      "outputs": [
        {
          "output_type": "stream",
          "name": "stdout",
          "text": [
            "\n",
            "-- Welcome to the Library System ---\n",
            "1. Login\n",
            "2. Signup\n",
            "3. Exit\n",
            "Choose an option: 1\n",
            "Enter your username: Admin\n",
            "Welcome Admin!\n",
            "\n",
            "===== MAIN MENU =====\n",
            "1. Add Book\n",
            "2. Borrow Book\n",
            "3. Return Book\n",
            "4. View All Books\n",
            "5. Search Book\n",
            "6. View Overdue Books\n",
            "7. Logout to Login Page\n",
            "Choose an option: 2\n",
            "Enter Book ID to borrow: B1\n",
            "Book borrowed. Return by 2025-08-15\n",
            "\n",
            "===== MAIN MENU =====\n",
            "1. Add Book\n",
            "2. Borrow Book\n",
            "3. Return Book\n",
            "4. View All Books\n",
            "5. Search Book\n",
            "6. View Overdue Books\n",
            "7. Logout to Login Page\n",
            "Choose an option: 7\n",
            "\n",
            "-- Welcome to the Library System ---\n",
            "1. Login\n",
            "2. Signup\n",
            "3. Exit\n",
            "Choose an option: 3\n",
            "Goodbye!\n"
          ]
        }
      ]
    }
  ]
}